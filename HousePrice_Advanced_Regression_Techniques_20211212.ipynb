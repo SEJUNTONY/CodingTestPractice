{
  "nbformat": 4,
  "nbformat_minor": 0,
  "metadata": {
    "colab": {
      "name": "HousePrice_Advanced Regression Techniques_20211212.ipynb",
      "provenance": [],
      "authorship_tag": "ABX9TyOJwyxDSvNoTforQvnSSmxr"
    },
    "kernelspec": {
      "name": "python3",
      "display_name": "Python 3"
    },
    "language_info": {
      "name": "python"
    }
  },
  "cells": [
    {
      "cell_type": "markdown",
      "source": [
        "# House Prices - Advanced Regression Techniques\n",
        "Predict Sales Prices and Practice Feature Engineering, RFs, and gradient boosting\n",
        "\n",
        "https://www.kaggle.com/c/house-prices-advanced-regression-techniques/data?select=test.csv\n",
        "\n",
        "참고자료 : https://www.kaggle.com/pmarcelino/comprehensive-data-exploration-with-python"
      ],
      "metadata": {
        "id": "5Wo8_Wi0gyTa"
      }
    },
    {
      "cell_type": "markdown",
      "source": [
        "문제 해결 방법\n",
        "\n",
        "1. 문제 이해\n",
        "2. 통합변수 연구 : 'SalePrice'라는 종속 변수에만 집중\n",
        "3. 다변수 연구 : 독립변수와 종속변수 간의 관계 파악\n",
        "4. Basic Cleaning : Missing Data, Ouliter, 범주형 변수(categorial variables) 다루기\n",
        "5. 가정"
      ],
      "metadata": {
        "id": "s3M9k9PKhgxw"
      }
    },
    {
      "cell_type": "code",
      "execution_count": 1,
      "metadata": {
        "id": "KHuGGlHtgb63"
      },
      "outputs": [],
      "source": [
        "import pandas as pd\n",
        "import matplotlib.pyplot as plt\n",
        "import seaborn as sns\n",
        "import numpy as np\n",
        "from scipy.stats import norm\n",
        "from sklearn.preprocessing import StandardScaler\n",
        "from scipy import stats\n",
        "import warnings\n",
        "warnings.filterwarnings('ignore')\n",
        "%matplotlib inline"
      ]
    },
    {
      "cell_type": "code",
      "source": [
        "from google.colab import drive\n",
        "drive.mount('/content/drive')"
      ],
      "metadata": {
        "colab": {
          "base_uri": "https://localhost:8080/"
        },
        "id": "MgCJ-y3CjpYe",
        "outputId": "f751e982-ce38-4079-819f-7bf4fc7d0f6f"
      },
      "execution_count": 2,
      "outputs": [
        {
          "output_type": "stream",
          "name": "stdout",
          "text": [
            "Mounted at /content/drive\n"
          ]
        }
      ]
    },
    {
      "cell_type": "code",
      "source": [
        "filename = '/content/drive/MyDrive/KagglePractice/20211212_HousePrice/train.csv'\n",
        "df_train = pd.read_csv(filename)"
      ],
      "metadata": {
        "id": "2JbDNZcEkUIN"
      },
      "execution_count": 3,
      "outputs": []
    },
    {
      "cell_type": "code",
      "source": [
        "# column값 확인\n",
        "df_train.columns"
      ],
      "metadata": {
        "colab": {
          "base_uri": "https://localhost:8080/"
        },
        "id": "7Hf45l8fklI3",
        "outputId": "cb4b9b0a-5d18-4294-ca6d-da1fc6e38e0b"
      },
      "execution_count": 6,
      "outputs": [
        {
          "output_type": "execute_result",
          "data": {
            "text/plain": [
              "Index(['Id', 'MSSubClass', 'MSZoning', 'LotFrontage', 'LotArea', 'Street',\n",
              "       'Alley', 'LotShape', 'LandContour', 'Utilities', 'LotConfig',\n",
              "       'LandSlope', 'Neighborhood', 'Condition1', 'Condition2', 'BldgType',\n",
              "       'HouseStyle', 'OverallQual', 'OverallCond', 'YearBuilt', 'YearRemodAdd',\n",
              "       'RoofStyle', 'RoofMatl', 'Exterior1st', 'Exterior2nd', 'MasVnrType',\n",
              "       'MasVnrArea', 'ExterQual', 'ExterCond', 'Foundation', 'BsmtQual',\n",
              "       'BsmtCond', 'BsmtExposure', 'BsmtFinType1', 'BsmtFinSF1',\n",
              "       'BsmtFinType2', 'BsmtFinSF2', 'BsmtUnfSF', 'TotalBsmtSF', 'Heating',\n",
              "       'HeatingQC', 'CentralAir', 'Electrical', '1stFlrSF', '2ndFlrSF',\n",
              "       'LowQualFinSF', 'GrLivArea', 'BsmtFullBath', 'BsmtHalfBath', 'FullBath',\n",
              "       'HalfBath', 'BedroomAbvGr', 'KitchenAbvGr', 'KitchenQual',\n",
              "       'TotRmsAbvGrd', 'Functional', 'Fireplaces', 'FireplaceQu', 'GarageType',\n",
              "       'GarageYrBlt', 'GarageFinish', 'GarageCars', 'GarageArea', 'GarageQual',\n",
              "       'GarageCond', 'PavedDrive', 'WoodDeckSF', 'OpenPorchSF',\n",
              "       'EnclosedPorch', '3SsnPorch', 'ScreenPorch', 'PoolArea', 'PoolQC',\n",
              "       'Fence', 'MiscFeature', 'MiscVal', 'MoSold', 'YrSold', 'SaleType',\n",
              "       'SaleCondition', 'SalePrice'],\n",
              "      dtype='object')"
            ]
          },
          "metadata": {},
          "execution_count": 6
        }
      ]
    },
    {
      "cell_type": "markdown",
      "source": [
        "## 1. 확인해봐야 할 사항"
      ],
      "metadata": {
        "id": "mFh6YL_YkvP2"
      }
    },
    {
      "cell_type": "markdown",
      "source": [
        "1. 연습"
      ],
      "metadata": {
        "id": "1EcP4xM0mNKc"
      }
    }
  ]
}